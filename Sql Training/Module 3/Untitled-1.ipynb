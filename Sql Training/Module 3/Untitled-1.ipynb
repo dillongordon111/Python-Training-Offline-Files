{
 "cells": [
  {
   "cell_type": "markdown",
   "metadata": {},
   "source": [
    "This code is practice, where I will be making some calculators "
   ]
  },
  {
   "cell_type": "code",
   "execution_count": 10,
   "metadata": {},
   "outputs": [
    {
     "name": "stdout",
     "output_type": "stream",
     "text": [
      "432.0 BTU\n"
     ]
    }
   ],
   "source": [
    "#Heat transfer using standard air\n",
    "cfm = int(input('Enter CFM'))\n",
    "dt = int(input('Enter dt'))\n",
    "t2 = int(input('Enter t2'))\n",
    "t1 = int(input('Enter t1'))\n",
    "def air(cfm,dt,t2,t1):\n",
    "    \n",
    "        if dt != 0:\n",
    "            return 1.08 * cfm * dt\n",
    "        else:\n",
    "            return 1.08 * cfm * (t2-t1)\n",
    "print(str(air(cfm, dt, t2, t1)) + \" BTU\")"
   ]
  },
  {
   "cell_type": "code",
   "execution_count": 12,
   "metadata": {},
   "outputs": [
    {
     "name": "stderr",
     "output_type": "stream",
     "text": [
      "2025-01-03 09:35:49.923 Thread 'MainThread': missing ScriptRunContext! This warning can be ignored when running in bare mode.\n",
      "2025-01-03 09:35:49.924 Thread 'MainThread': missing ScriptRunContext! This warning can be ignored when running in bare mode.\n",
      "2025-01-03 09:35:49.925 Thread 'MainThread': missing ScriptRunContext! This warning can be ignored when running in bare mode.\n",
      "2025-01-03 09:35:49.926 Thread 'MainThread': missing ScriptRunContext! This warning can be ignored when running in bare mode.\n",
      "2025-01-03 09:35:49.928 Thread 'MainThread': missing ScriptRunContext! This warning can be ignored when running in bare mode.\n",
      "2025-01-03 09:35:49.951 Thread 'MainThread': missing ScriptRunContext! This warning can be ignored when running in bare mode.\n",
      "2025-01-03 09:35:49.952 Thread 'MainThread': missing ScriptRunContext! This warning can be ignored when running in bare mode.\n"
     ]
    },
    {
     "ename": "ValueError",
     "evalue": "could not convert string to float: ''",
     "output_type": "error",
     "traceback": [
      "\u001b[1;31m---------------------------------------------------------------------------\u001b[0m",
      "\u001b[1;31mValueError\u001b[0m                                Traceback (most recent call last)",
      "Cell \u001b[1;32mIn[12], line 16\u001b[0m\n\u001b[0;32m     13\u001b[0m st\u001b[38;5;241m.\u001b[39mdataframe(dataframe\u001b[38;5;241m.\u001b[39mstyle\u001b[38;5;241m.\u001b[39mhighlight_max(axis\u001b[38;5;241m=\u001b[39m\u001b[38;5;241m0\u001b[39m))\n\u001b[0;32m     15\u001b[0m \u001b[38;5;66;03m#Heat transfer for water\u001b[39;00m\n\u001b[1;32m---> 16\u001b[0m gpm \u001b[38;5;241m=\u001b[39m \u001b[38;5;28;43mfloat\u001b[39;49m\u001b[43m(\u001b[49m\u001b[38;5;28;43minput\u001b[39;49m\u001b[43m(\u001b[49m\u001b[38;5;124;43m\"\u001b[39;49m\u001b[38;5;124;43mEnter GPM\u001b[39;49m\u001b[38;5;124;43m\"\u001b[39;49m\u001b[43m)\u001b[49m\u001b[43m)\u001b[49m\n\u001b[0;32m     17\u001b[0m dt \u001b[38;5;241m=\u001b[39m \u001b[38;5;28mfloat\u001b[39m(\u001b[38;5;28minput\u001b[39m(\u001b[38;5;124m\"\u001b[39m\u001b[38;5;124mEnter Temperature Differential in F\u001b[39m\u001b[38;5;124m\"\u001b[39m))\n\u001b[0;32m     18\u001b[0m t2 \u001b[38;5;241m=\u001b[39m \u001b[38;5;28mfloat\u001b[39m(\u001b[38;5;28minput\u001b[39m(\u001b[38;5;124m\"\u001b[39m\u001b[38;5;124mEnter Temperature 2 in F\u001b[39m\u001b[38;5;124m\"\u001b[39m))\n",
      "\u001b[1;31mValueError\u001b[0m: could not convert string to float: ''"
     ]
    }
   ],
   "source": [
    "\n",
    "import numpy as np\n",
    "import streamlit as st\n",
    "import pandas as pd \n",
    "\n",
    "st.title('Heat transfer calculator')\n",
    "st.markdown(\"[share](/?param=value)\")\n",
    "\n",
    "\n",
    "dataframe = pd.DataFrame(\n",
    "    np.random.randn(10, 20),\n",
    "    columns=('col %d' % i for i in range(20)))\n",
    "\n",
    "st.dataframe(dataframe.style.highlight_max(axis=0))\n",
    "\n",
    "#Heat transfer for water\n",
    "gpm = float(input(\"Enter GPM\"))\n",
    "dt = float(input(\"Enter Temperature Differential in F\"))\n",
    "t2 = float(input(\"Enter Temperature 2 in F\"))\n",
    "t1 = float(input(\"Enter Temperature 1 in F\"))\n",
    "gp = float(input(\"Enter Glycol %\"))\n",
    "oat = float(input(\"Enter Outside Air Temperature in F\"))\n",
    "\n",
    "cf = 1\n",
    "gph = gpm * 60\n",
    "\n",
    "if gp == 50:\n",
    "    cf = .000018 * oat + .875\n",
    "elif gp == 40:\n",
    "    cf = .0000639 * oat + .91\n",
    "elif gp == 30: \n",
    "    cf = 8e-05 * oat +.94\n",
    "elif gp == 20:\n",
    "    cf = 1e-05 * oat +.97\n",
    "elif gp == 0:\n",
    "    cf = -.00044 * oat + 1.05\n",
    "def water(gph,dt,t2,t1,gp,oat,cf):\n",
    "    if dt != 0:\n",
    "        return 500 * gph * dt * cf\n",
    "    else:\n",
    "        return 500 * gph * (t2-t1) * cf   \n",
    "    \n",
    "heat_transfer = water(gph,dt,t2,t1,gp,oat,cf)\n",
    "print(str(round(heat_transfer, 2)) + \" BTU/Hr\")\n",
    "\n",
    "def converttombh(heat_transfer):\n",
    "    return (heat_transfer/1000)\n",
    "\n",
    "mbh = converttombh(heat_transfer)\n",
    "print(str(round(mbh, 2)) + \" MBH/Hr\")"
   ]
  },
  {
   "cell_type": "markdown",
   "metadata": {},
   "source": [
    "Practice text editing, removing commas from a .csv and returning "
   ]
  },
  {
   "cell_type": "markdown",
   "metadata": {},
   "source": [
    "SciPy interpolation"
   ]
  },
  {
   "cell_type": "markdown",
   "metadata": {},
   "source": [
    "Output calculator into streamlit, maybe automate all of a module that was already done into stream lit where you can press buttons that apply filters to clean the data that you already created"
   ]
  }
 ],
 "metadata": {
  "kernelspec": {
   "display_name": "Python 3",
   "language": "python",
   "name": "python3"
  },
  "language_info": {
   "codemirror_mode": {
    "name": "ipython",
    "version": 3
   },
   "file_extension": ".py",
   "mimetype": "text/x-python",
   "name": "python",
   "nbconvert_exporter": "python",
   "pygments_lexer": "ipython3",
   "version": "3.12.5"
  }
 },
 "nbformat": 4,
 "nbformat_minor": 2
}
